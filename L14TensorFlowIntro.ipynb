{
 "cells": [
  {
   "cell_type": "code",
   "execution_count": 1,
   "metadata": {},
   "outputs": [
    {
     "name": "stderr",
     "output_type": "stream",
     "text": [
      "C:\\Users\\Jayant\\Anaconda3\\lib\\site-packages\\h5py\\__init__.py:36: FutureWarning: Conversion of the second argument of issubdtype from `float` to `np.floating` is deprecated. In future, it will be treated as `np.float64 == np.dtype(float).type`.\n",
      "  from ._conv import register_converters as _register_converters\n"
     ]
    }
   ],
   "source": [
    "import tensorflow as tf"
   ]
  },
  {
   "cell_type": "code",
   "execution_count": 2,
   "metadata": {},
   "outputs": [
    {
     "data": {
      "text/plain": [
       "<tf.Tensor 'add:0' shape=() dtype=int32>"
      ]
     },
     "execution_count": 2,
     "metadata": {},
     "output_type": "execute_result"
    }
   ],
   "source": [
    "a = tf.constant(2)\n",
    "b = tf.constant(3)\n",
    "c = a + b\n",
    "c"
   ]
  },
  {
   "cell_type": "code",
   "execution_count": 3,
   "metadata": {},
   "outputs": [
    {
     "data": {
      "text/plain": [
       "5"
      ]
     },
     "execution_count": 3,
     "metadata": {},
     "output_type": "execute_result"
    }
   ],
   "source": [
    "sess = tf.Session()\n",
    "sess.run(c)"
   ]
  },
  {
   "cell_type": "code",
   "execution_count": 4,
   "metadata": {},
   "outputs": [
    {
     "data": {
      "text/plain": [
       "(array([[ 8,  8],\n",
       "        [18, 18]]), 5)"
      ]
     },
     "execution_count": 4,
     "metadata": {},
     "output_type": "execute_result"
    }
   ],
   "source": [
    "a1 = tf.constant([[1,2], [3,4]])\n",
    "a2 = tf.constant([[2,2], [3,3]])\n",
    "res = tf.matmul(a1, a2)\n",
    "result, resc = sess.run([res, c])\n",
    "result, resc"
   ]
  },
  {
   "cell_type": "code",
   "execution_count": 5,
   "metadata": {},
   "outputs": [
    {
     "name": "stdout",
     "output_type": "stream",
     "text": [
      "[[ 8  8]\n",
      " [18 18]]\n"
     ]
    }
   ],
   "source": [
    "#print(res.eval())\n",
    "\n",
    "with tf.Session() as sess:\n",
    "    print(res.eval())"
   ]
  },
  {
   "cell_type": "code",
   "execution_count": 35,
   "metadata": {},
   "outputs": [
    {
     "data": {
      "text/plain": [
       "1235"
      ]
     },
     "execution_count": 35,
     "metadata": {},
     "output_type": "execute_result"
    }
   ],
   "source": [
    "var1 = tf.Variable(1221)\n",
    "#print(var1)\n",
    "var2 = tf.Variable(3)\n",
    "addition = var1 + var2\n",
    "sess = tf.Session()\n",
    "sess.run(tf.global_variables_initializer())\n",
    "#sess.run(var1.assign(1232))\n",
    "assign_object = var1.assign(1232)\n",
    "sess.run(assign_object)\n",
    "addition = var1 + var2\n",
    "sess.run(addition)"
   ]
  },
  {
   "cell_type": "code",
   "execution_count": 66,
   "metadata": {},
   "outputs": [
    {
     "name": "stdout",
     "output_type": "stream",
     "text": [
      "Tensor(\"mul_14:0\", shape=(2, ?), dtype=int32)\n",
      "[[ 20  40  60 100]\n",
      " [ 80 100 120 160]]\n"
     ]
    },
    {
     "data": {
      "text/plain": [
       "array([[ 200,  400,  600],\n",
       "       [ 800, 1000, 1200]], dtype=int32)"
      ]
     },
     "execution_count": 66,
     "metadata": {},
     "output_type": "execute_result"
    }
   ],
   "source": [
    "x = tf.placeholder(tf.int32, shape=(2, None))\n",
    "y = x * tf.constant(20)  #3 or can be written x*20\n",
    "print(y)\n",
    "sess = tf.Session()\n",
    "print(sess.run(y,feed_dict={x:[1,2,3]}))\n",
    "sess.run(y, feed_dict={x:[[10,20,30],[40,50,60]]})"
   ]
  },
  {
   "cell_type": "code",
   "execution_count": 17,
   "metadata": {},
   "outputs": [
    {
     "name": "stdout",
     "output_type": "stream",
     "text": [
      "103\n"
     ]
    },
    {
     "data": {
      "text/plain": [
       "1235"
      ]
     },
     "execution_count": 17,
     "metadata": {},
     "output_type": "execute_result"
    }
   ],
   "source": [
    "var1=tf.Variable(100)\n",
    "var2=tf.Variable(3)\n",
    "sum=tf.add(var1,var2)\n",
    "sess=tf.Session()\n",
    "#sess1=tf.Session()\n",
    "sess.run(tf.global_variables_initializer())\n",
    "print(sess.run(sum))\n",
    "\n",
    "sess.run(var1.assign(1232))\n",
    "sess.run(sum)\n"
   ]
  },
  {
   "cell_type": "code",
   "execution_count": 32,
   "metadata": {},
   "outputs": [
    {
     "data": {
      "text/plain": [
       "array([[24,  6]])"
      ]
     },
     "execution_count": 32,
     "metadata": {},
     "output_type": "execute_result"
    }
   ],
   "source": [
    "\n",
    "x=tf.placeholder(tf.int32,shape=(1,2))\n",
    "y=x*2\n",
    "sess.run(tf.global_variables_initializer())\n",
    "\n",
    "sess.run(y,feed_dict={x:[[123]]})"
   ]
  }
 ],
 "metadata": {
  "anaconda-cloud": {},
  "kernelspec": {
   "display_name": "Python 3",
   "language": "python",
   "name": "python3"
  },
  "language_info": {
   "codemirror_mode": {
    "name": "ipython",
    "version": 3
   },
   "file_extension": ".py",
   "mimetype": "text/x-python",
   "name": "python",
   "nbconvert_exporter": "python",
   "pygments_lexer": "ipython3",
   "version": "3.6.5"
  }
 },
 "nbformat": 4,
 "nbformat_minor": 1
}
